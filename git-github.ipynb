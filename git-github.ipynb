{
 "cells": [
  {
   "cell_type": "markdown",
   "metadata": {
    "deletable": true,
    "editable": true
   },
   "source": [
    "# Step 1: create an account on github\n",
    "\n",
    "www.github.com"
   ]
  },
  {
   "cell_type": "markdown",
   "metadata": {
    "deletable": true,
    "editable": true
   },
   "source": [
    "# Step 2: confirm email registration\n",
    "\n",
    "check your email"
   ]
  },
  {
   "cell_type": "markdown",
   "metadata": {
    "deletable": true,
    "editable": true
   },
   "source": [
    "# Basic Git Commands\n",
    "\n",
    "1. git init\n",
    "2. git status\n",
    "3. git add file_name_1, file_name_2, ..., file_name_N\n",
    "3. git commit -m \"your message\"\n",
    "4. git push"
   ]
  },
  {
   "cell_type": "markdown",
   "metadata": {
    "deletable": true,
    "editable": true
   },
   "source": [
    "# Step 3: initialize git repository"
   ]
  },
  {
   "cell_type": "code",
   "execution_count": null,
   "metadata": {
    "collapsed": true,
    "deletable": true,
    "editable": true
   },
   "outputs": [],
   "source": [
    "!git init"
   ]
  },
  {
   "cell_type": "code",
   "execution_count": 1,
   "metadata": {
    "collapsed": false,
    "deletable": true,
    "editable": true
   },
   "outputs": [
    {
     "name": "stdout",
     "output_type": "stream",
     "text": [
      "On branch master\r\n",
      "Your branch is up-to-date with 'origin/master'.\r\n",
      "Changes not staged for commit:\r\n",
      "  (use \"git add/rm <file>...\" to update what will be committed)\r\n",
      "  (use \"git checkout -- <file>...\" to discard changes in working directory)\r\n",
      "\r\n",
      "\t\u001b[31mdeleted:    numpy.ipynb\u001b[m\r\n",
      "\t\u001b[31mmodified:   tumo-tf/downloader.ipynb\u001b[m\r\n",
      "\t\u001b[31mdeleted:    tumo-tf/git-github.ipynb\u001b[m\r\n",
      "\t\u001b[31mmodified:   tumo-tf/lamdba_function.ipynb\u001b[m\r\n",
      "\t\u001b[31mmodified:   tumo-tf/magic_commands.ipynb\u001b[m\r\n",
      "\t\u001b[31mmodified:   tumo-tf/markdown.ipynb\u001b[m\r\n",
      "\t\u001b[31mmodified:   tumo-tf/matplotlib_library.ipynb\u001b[m\r\n",
      "\r\n",
      "Untracked files:\r\n",
      "  (use \"git add <file>...\" to include in what will be committed)\r\n",
      "\r\n",
      "\t\u001b[31m.gitignore\u001b[m\r\n",
      "\t\u001b[31mdata.txt\u001b[m\r\n",
      "\t\u001b[31mgit-github.ipynb\u001b[m\r\n",
      "\t\u001b[31mlesson1.py\u001b[m\r\n",
      "\t\u001b[31mlesson11.py\u001b[m\r\n",
      "\t\u001b[31mlesson4.ipynb\u001b[m\r\n",
      "\t\u001b[31mlesson_4.ipynb\u001b[m\r\n",
      "\t\u001b[31mromeo.txt\u001b[m\r\n",
      "\t\u001b[31mscientific-python-lectures/\u001b[m\r\n",
      "\t\u001b[31mtest.txt\u001b[m\r\n",
      "\t\u001b[31mtumo-tf/Lecture-4-Matplotlib.ipynb\u001b[m\r\n",
      "\t\u001b[31mtumo-tf/lesson_git/assets/\u001b[m\r\n",
      "\t\u001b[31mtumo-tf/numpy-tutorial-solved.ipynb\u001b[m\r\n",
      "\t\u001b[31mtumo-tf/numpy.ipynb\u001b[m\r\n",
      "\r\n",
      "no changes added to commit (use \"git add\" and/or \"git commit -a\")\r\n"
     ]
    }
   ],
   "source": [
    "!git status"
   ]
  },
  {
   "cell_type": "code",
   "execution_count": null,
   "metadata": {
    "collapsed": true,
    "deletable": true,
    "editable": true
   },
   "outputs": [],
   "source": []
  },
  {
   "cell_type": "markdown",
   "metadata": {
    "deletable": true,
    "editable": true
   },
   "source": [
    "# Step 4: adjust your username and email configuration"
   ]
  },
  {
   "cell_type": "code",
   "execution_count": 2,
   "metadata": {
    "collapsed": true,
    "deletable": true,
    "editable": true
   },
   "outputs": [],
   "source": [
    "!git config --global user.name \"yurimkrtumyan\""
   ]
  },
  {
   "cell_type": "code",
   "execution_count": 3,
   "metadata": {
    "collapsed": true,
    "deletable": true,
    "editable": true
   },
   "outputs": [],
   "source": [
    "!git config --global user.email \"yuri.mkrtumyan.s@tumo.org\""
   ]
  },
  {
   "cell_type": "markdown",
   "metadata": {
    "deletable": true,
    "editable": true
   },
   "source": [
    "# Step 5: create a .gitignore file"
   ]
  },
  {
   "cell_type": "code",
   "execution_count": 1,
   "metadata": {
    "collapsed": false,
    "deletable": true,
    "editable": true
   },
   "outputs": [
    {
     "name": "stdout",
     "output_type": "stream",
     "text": [
      "Writing .gitignore\n"
     ]
    }
   ],
   "source": [
    "%%writefile .gitignore\n",
    ".*\n",
    "!/.gitignore"
   ]
  },
  {
   "cell_type": "code",
   "execution_count": 3,
   "metadata": {
    "collapsed": false,
    "deletable": true,
    "editable": true
   },
   "outputs": [
    {
     "name": "stdout",
     "output_type": "stream",
     "text": [
      ".* \r\n",
      "!/.gitignore\r\n",
      "VirtualBox\\ VMs/\r\n"
     ]
    }
   ],
   "source": [
    "!cat .gitignore"
   ]
  },
  {
   "cell_type": "code",
   "execution_count": 4,
   "metadata": {
    "collapsed": false,
    "deletable": true,
    "editable": true
   },
   "outputs": [
    {
     "name": "stdout",
     "output_type": "stream",
     "text": [
      "On branch master\r\n",
      "Your branch is up-to-date with 'origin/master'.\r\n",
      "Changes not staged for commit:\r\n",
      "  (use \"git add/rm <file>...\" to update what will be committed)\r\n",
      "  (use \"git checkout -- <file>...\" to discard changes in working directory)\r\n",
      "\r\n",
      "\t\u001b[31mdeleted:    numpy.ipynb\u001b[m\r\n",
      "\t\u001b[31mmodified:   tumo-tf/downloader.ipynb\u001b[m\r\n",
      "\t\u001b[31mdeleted:    tumo-tf/git-github.ipynb\u001b[m\r\n",
      "\t\u001b[31mmodified:   tumo-tf/lamdba_function.ipynb\u001b[m\r\n",
      "\t\u001b[31mmodified:   tumo-tf/magic_commands.ipynb\u001b[m\r\n",
      "\t\u001b[31mmodified:   tumo-tf/markdown.ipynb\u001b[m\r\n",
      "\t\u001b[31mmodified:   tumo-tf/matplotlib_library.ipynb\u001b[m\r\n",
      "\r\n",
      "Untracked files:\r\n",
      "  (use \"git add <file>...\" to include in what will be committed)\r\n",
      "\r\n",
      "\t\u001b[31m.gitignore\u001b[m\r\n",
      "\t\u001b[31mdata.txt\u001b[m\r\n",
      "\t\u001b[31mgit-github.ipynb\u001b[m\r\n",
      "\t\u001b[31mlesson1.py\u001b[m\r\n",
      "\t\u001b[31mlesson11.py\u001b[m\r\n",
      "\t\u001b[31mlesson4.ipynb\u001b[m\r\n",
      "\t\u001b[31mlesson_4.ipynb\u001b[m\r\n",
      "\t\u001b[31mromeo.txt\u001b[m\r\n",
      "\t\u001b[31mscientific-python-lectures/\u001b[m\r\n",
      "\t\u001b[31mtest.txt\u001b[m\r\n",
      "\t\u001b[31mtumo-tf/Lecture-4-Matplotlib.ipynb\u001b[m\r\n",
      "\t\u001b[31mtumo-tf/lesson_git/assets/\u001b[m\r\n",
      "\t\u001b[31mtumo-tf/numpy-tutorial-solved.ipynb\u001b[m\r\n",
      "\t\u001b[31mtumo-tf/numpy.ipynb\u001b[m\r\n",
      "\r\n",
      "no changes added to commit (use \"git add\" and/or \"git commit -a\")\r\n"
     ]
    }
   ],
   "source": [
    "!git status"
   ]
  },
  {
   "cell_type": "markdown",
   "metadata": {
    "deletable": true,
    "editable": true
   },
   "source": [
    "# Step 6: add all files with ipynb and py endings"
   ]
  },
  {
   "cell_type": "code",
   "execution_count": 5,
   "metadata": {
    "collapsed": true,
    "deletable": true,
    "editable": true
   },
   "outputs": [],
   "source": [
    "!git add ./\\*.ipynb"
   ]
  },
  {
   "cell_type": "code",
   "execution_count": 6,
   "metadata": {
    "collapsed": true,
    "deletable": true,
    "editable": true
   },
   "outputs": [],
   "source": [
    "!git add ./\\*.py"
   ]
  },
  {
   "cell_type": "code",
   "execution_count": 8,
   "metadata": {
    "collapsed": true,
    "deletable": true,
    "editable": true
   },
   "outputs": [],
   "source": [
    "!git add .gitignore"
   ]
  },
  {
   "cell_type": "code",
   "execution_count": null,
   "metadata": {
    "collapsed": true,
    "deletable": true,
    "editable": true
   },
   "outputs": [],
   "source": [
    "!git add . # add all files except those in the .gitignore"
   ]
  },
  {
   "cell_type": "code",
   "execution_count": 9,
   "metadata": {
    "collapsed": false,
    "deletable": true,
    "editable": true
   },
   "outputs": [
    {
     "name": "stdout",
     "output_type": "stream",
     "text": [
      "On branch master\r\n",
      "Your branch is up-to-date with 'origin/master'.\r\n",
      "Changes to be committed:\r\n",
      "  (use \"git reset HEAD <file>...\" to unstage)\r\n",
      "\r\n",
      "\t\u001b[32mnew file:   .gitignore\u001b[m\r\n",
      "\t\u001b[32mnew file:   git-github.ipynb\u001b[m\r\n",
      "\t\u001b[32mnew file:   lesson1.py\u001b[m\r\n",
      "\t\u001b[32mnew file:   lesson11.py\u001b[m\r\n",
      "\t\u001b[32mnew file:   lesson4.ipynb\u001b[m\r\n",
      "\t\u001b[32mnew file:   lesson_4.ipynb\u001b[m\r\n",
      "\t\u001b[32mdeleted:    numpy.ipynb\u001b[m\r\n",
      "\t\u001b[32mnew file:   tumo-tf/Lecture-4-Matplotlib.ipynb\u001b[m\r\n",
      "\t\u001b[32mmodified:   tumo-tf/downloader.ipynb\u001b[m\r\n",
      "\t\u001b[32mdeleted:    tumo-tf/git-github.ipynb\u001b[m\r\n",
      "\t\u001b[32mmodified:   tumo-tf/lamdba_function.ipynb\u001b[m\r\n",
      "\t\u001b[32mmodified:   tumo-tf/magic_commands.ipynb\u001b[m\r\n",
      "\t\u001b[32mmodified:   tumo-tf/markdown.ipynb\u001b[m\r\n",
      "\t\u001b[32mmodified:   tumo-tf/matplotlib_library.ipynb\u001b[m\r\n",
      "\t\u001b[32mnew file:   tumo-tf/numpy-tutorial-solved.ipynb\u001b[m\r\n",
      "\t\u001b[32mnew file:   tumo-tf/numpy.ipynb\u001b[m\r\n",
      "\r\n",
      "Changes not staged for commit:\r\n",
      "  (use \"git add <file>...\" to update what will be committed)\r\n",
      "  (use \"git checkout -- <file>...\" to discard changes in working directory)\r\n",
      "\r\n",
      "\t\u001b[31mmodified:   git-github.ipynb\u001b[m\r\n",
      "\r\n",
      "Untracked files:\r\n",
      "  (use \"git add <file>...\" to include in what will be committed)\r\n",
      "\r\n",
      "\t\u001b[31mdata.txt\u001b[m\r\n",
      "\t\u001b[31mromeo.txt\u001b[m\r\n",
      "\t\u001b[31mscientific-python-lectures/\u001b[m\r\n",
      "\t\u001b[31mtest.txt\u001b[m\r\n",
      "\t\u001b[31mtumo-tf/lesson_git/assets/\u001b[m\r\n",
      "\r\n"
     ]
    }
   ],
   "source": [
    "!git status"
   ]
  },
  {
   "cell_type": "raw",
   "metadata": {
    "deletable": true,
    "editable": true
   },
   "source": [
    "# general command\n",
    "git add filename1, filename2, ..., filenameN"
   ]
  },
  {
   "cell_type": "markdown",
   "metadata": {
    "deletable": true,
    "editable": true
   },
   "source": [
    "# Step 7: commit added files"
   ]
  },
  {
   "cell_type": "code",
   "execution_count": 10,
   "metadata": {
    "collapsed": false,
    "deletable": true,
    "editable": true
   },
   "outputs": [
    {
     "name": "stdout",
     "output_type": "stream",
     "text": [
      "[master c4de546] first commit\r\n",
      " 16 files changed, 15204 insertions(+), 715 deletions(-)\r\n",
      " create mode 100644 .gitignore\r\n",
      " create mode 100644 git-github.ipynb\r\n",
      " create mode 100644 lesson1.py\r\n",
      " create mode 100644 lesson11.py\r\n",
      " create mode 100644 lesson4.ipynb\r\n",
      " create mode 100644 lesson_4.ipynb\r\n",
      " delete mode 100644 numpy.ipynb\r\n",
      " create mode 100644 tumo-tf/Lecture-4-Matplotlib.ipynb\r\n",
      " delete mode 100644 tumo-tf/git-github.ipynb\r\n",
      " create mode 100644 tumo-tf/numpy-tutorial-solved.ipynb\r\n",
      " create mode 100644 tumo-tf/numpy.ipynb\r\n"
     ]
    }
   ],
   "source": [
    "!git commit -m \"first commit\""
   ]
  },
  {
   "cell_type": "markdown",
   "metadata": {
    "deletable": true,
    "editable": true
   },
   "source": [
    "# Step 8 open terminal and type `tig`\n",
    "\n",
    "    $ tig\n",
    "    \n",
    "You should see the following"
   ]
  },
  {
   "cell_type": "markdown",
   "metadata": {
    "deletable": true,
    "editable": true
   },
   "source": [
    "![tig-first-commit](lesson_git/assets/tig-first-commit.png)"
   ]
  },
  {
   "cell_type": "markdown",
   "metadata": {
    "deletable": true,
    "editable": true
   },
   "source": [
    "# Step 9 view tig help by pressing h button"
   ]
  },
  {
   "cell_type": "markdown",
   "metadata": {
    "deletable": true,
    "editable": true
   },
   "source": [
    "![tig-first-commit](lesson_git/assets/tig-help.png)"
   ]
  },
  {
   "cell_type": "markdown",
   "metadata": {
    "deletable": true,
    "editable": true
   },
   "source": [
    "To nativate in `tig` use the following buttons\n",
    "\n",
    "    h - help\n",
    "    Enter - open selected line\n",
    "    q - to close current window\n",
    "    space - to go through log"
   ]
  },
  {
   "cell_type": "markdown",
   "metadata": {
    "deletable": true,
    "editable": true
   },
   "source": [
    "# Step 10: push your repository to github"
   ]
  },
  {
   "cell_type": "code",
   "execution_count": null,
   "metadata": {
    "collapsed": true,
    "deletable": true,
    "editable": true
   },
   "outputs": [],
   "source": [
    "# to be modified\n",
    "!git remote add origin https://github.com/your-github-username/tumo-tf.git"
   ]
  },
  {
   "cell_type": "raw",
   "metadata": {
    "deletable": true,
    "editable": true
   },
   "source": [
    "# run this command from terminal\n",
    "git push -u origin master"
   ]
  },
  {
   "cell_type": "markdown",
   "metadata": {
    "collapsed": true,
    "deletable": true,
    "editable": true
   },
   "source": [
    "# Step 11: Make some changes and then commit"
   ]
  },
  {
   "cell_type": "code",
   "execution_count": null,
   "metadata": {
    "collapsed": true,
    "deletable": true,
    "editable": true
   },
   "outputs": [],
   "source": [
    "!git status"
   ]
  },
  {
   "cell_type": "code",
   "execution_count": null,
   "metadata": {
    "collapsed": true,
    "deletable": true,
    "editable": true
   },
   "outputs": [],
   "source": [
    "!git add -u # add/stage only modified files"
   ]
  },
  {
   "cell_type": "markdown",
   "metadata": {
    "deletable": true,
    "editable": true
   },
   "source": [
    "Summary:\n",
    "\n",
    "    git add -A stages All\n",
    "\n",
    "    git add . stages new and modified, without deleted\n",
    "\n",
    "    git add -u stages modified and deleted, without new\n"
   ]
  },
  {
   "cell_type": "code",
   "execution_count": null,
   "metadata": {
    "collapsed": true,
    "deletable": true,
    "editable": true
   },
   "outputs": [],
   "source": [
    "!git commit -m \"commit message\""
   ]
  }
 ],
 "metadata": {
  "kernelspec": {
   "display_name": "Python 3",
   "language": "python",
   "name": "python3"
  },
  "language_info": {
   "codemirror_mode": {
    "name": "ipython",
    "version": 3
   },
   "file_extension": ".py",
   "mimetype": "text/x-python",
   "name": "python",
   "nbconvert_exporter": "python",
   "pygments_lexer": "ipython3",
   "version": "3.6.0"
  }
 },
 "nbformat": 4,
 "nbformat_minor": 2
}
