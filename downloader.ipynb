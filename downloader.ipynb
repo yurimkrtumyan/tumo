{
 "cells": [
  {
   "cell_type": "code",
   "execution_count": 1,
   "metadata": {
    "collapsed": false,
    "deletable": true,
    "editable": true
   },
   "outputs": [
    {
     "name": "stdout",
     "output_type": "stream",
     "text": [
      "--2017-04-05 20:12:35--  https://raw.githubusercontent.com/tumregels/tumo-tf/master/git-github.ipynb\n",
      "Resolving raw.githubusercontent.com (raw.githubusercontent.com)... 151.101.12.133\n",
      "Connecting to raw.githubusercontent.com (raw.githubusercontent.com)|151.101.12.133|:443... connected.\n",
      "HTTP request sent, awaiting response... 200 OK\n",
      "Length: 14886 (15K) [text/plain]\n",
      "Saving to: ‘git-github.ipynb’\n",
      "\n",
      "git-github.ipynb    100%[===================>]  14.54K  --.-KB/s    in 0.06s   \n",
      "\n",
      "2017-04-05 20:12:35 (242 KB/s) - ‘git-github.ipynb’ saved [14886/14886]\n",
      "\n"
     ]
    }
   ],
   "source": [
    "!wget https://raw.githubusercontent.com/tumregels/tumo-tf/master/git-github.ipynb"
   ]
  },
  {
   "cell_type": "code",
   "execution_count": null,
   "metadata": {
    "collapsed": false,
    "deletable": true,
    "editable": true
   },
   "outputs": [],
   "source": [
    "!wget https://raw.githubusercontent.com/tumregels/pytraining/mic1/lesson4/magic_commands.ipynb"
   ]
  },
  {
   "cell_type": "code",
   "execution_count": null,
   "metadata": {
    "collapsed": true,
    "deletable": true,
    "editable": true
   },
   "outputs": [],
   "source": [
    "!git clone https://raw.githubusercontent.com/jrjohansson/scientific-python-lectures/master/Lecture-7-Revision-Control-Software.ipynb"
   ]
  },
  {
   "cell_type": "code",
   "execution_count": null,
   "metadata": {
    "collapsed": false,
    "deletable": true,
    "editable": true
   },
   "outputs": [],
   "source": [
    "!wget https://raw.githubusercontent.com/tumregels/pytraining/mic1/lesson8/markdown.ipynb"
   ]
  },
  {
   "cell_type": "code",
   "execution_count": null,
   "metadata": {
    "collapsed": true,
    "deletable": true,
    "editable": true
   },
   "outputs": [],
   "source": [
    "!wget https://raw.githubusercontent.com/tumregels/pytraining/mic1/lesson8/lamdba_function.ipynb"
   ]
  },
  {
   "cell_type": "code",
   "execution_count": 1,
   "metadata": {
    "collapsed": false,
    "deletable": true,
    "editable": true
   },
   "outputs": [
    {
     "name": "stdout",
     "output_type": "stream",
     "text": [
      "--2017-04-06 20:29:13--  https://raw.githubusercontent.com/tumregels/tumo-tf/master/numpy.ipynb\n",
      "Resolving raw.githubusercontent.com (raw.githubusercontent.com)... 151.101.12.133\n",
      "Connecting to raw.githubusercontent.com (raw.githubusercontent.com)|151.101.12.133|:443... connected.\n",
      "HTTP request sent, awaiting response... 200 OK\n",
      "Length: 23225 (23K) [text/plain]\n",
      "Saving to: ‘numpy.ipynb’\n",
      "\n",
      "numpy.ipynb         100%[===================>]  22.68K  --.-KB/s    in 0.06s   \n",
      "\n",
      "2017-04-06 20:29:14 (375 KB/s) - ‘numpy.ipynb’ saved [23225/23225]\n",
      "\n"
     ]
    }
   ],
   "source": [
    "!wget https://raw.githubusercontent.com/tumregels/tumo-tf/master/numpy.ipynb"
   ]
  },
  {
   "cell_type": "code",
   "execution_count": 2,
   "metadata": {
    "collapsed": false,
    "deletable": true,
    "editable": true
   },
   "outputs": [
    {
     "name": "stdout",
     "output_type": "stream",
     "text": [
      "--2017-04-06 20:49:45--  https://raw.githubusercontent.com/gertingold/euroscipy16-numpy-tutorial/master/numpy-tutorial-solved.ipynb\n",
      "Resolving raw.githubusercontent.com (raw.githubusercontent.com)... 151.101.12.133\n",
      "Connecting to raw.githubusercontent.com (raw.githubusercontent.com)|151.101.12.133|:443... connected.\n",
      "HTTP request sent, awaiting response... 200 OK\n",
      "Length: 1582753 (1.5M) [text/plain]\n",
      "Saving to: ‘numpy-tutorial-solved.ipynb’\n",
      "\n",
      "numpy-tutorial-solv 100%[===================>]   1.51M  1.60MB/s    in 0.9s    \n",
      "\n",
      "2017-04-06 20:49:47 (1.60 MB/s) - ‘numpy-tutorial-solved.ipynb’ saved [1582753/1582753]\n",
      "\n"
     ]
    }
   ],
   "source": [
    "!wget https://raw.githubusercontent.com/gertingold/euroscipy16-numpy-tutorial/master/numpy-tutorial-solved.ipynb"
   ]
  },
  {
   "cell_type": "code",
   "execution_count": 3,
   "metadata": {
    "collapsed": false,
    "deletable": true,
    "editable": true
   },
   "outputs": [
    {
     "name": "stdout",
     "output_type": "stream",
     "text": [
      "--2017-04-06 20:50:05--  https://raw.githubusercontent.com/tumregels/pytraining/mic1/lesson4/matplotlib_library.ipynb\n",
      "Resolving raw.githubusercontent.com (raw.githubusercontent.com)... 151.101.12.133\n",
      "Connecting to raw.githubusercontent.com (raw.githubusercontent.com)|151.101.12.133|:443... connected.\n",
      "HTTP request sent, awaiting response... 200 OK\n",
      "Length: 91375 (89K) [text/plain]\n",
      "Saving to: ‘matplotlib_library.ipynb’\n",
      "\n",
      "matplotlib_library. 100%[===================>]  89.23K  --.-KB/s    in 0.1s    \n",
      "\n",
      "2017-04-06 20:50:06 (718 KB/s) - ‘matplotlib_library.ipynb’ saved [91375/91375]\n",
      "\n"
     ]
    }
   ],
   "source": [
    "!wget https://raw.githubusercontent.com/tumregels/pytraining/mic1/lesson4/matplotlib_library.ipynb"
   ]
  },
  {
   "cell_type": "code",
   "execution_count": null,
   "metadata": {
    "collapsed": false,
    "deletable": true,
    "editable": true
   },
   "outputs": [],
   "source": [
    "!wget https://github.com/jrjohansson/scientific-python-lectures/raw/master/Lecture-4-Matplotlib.ipynb"
   ]
  },
  {
   "cell_type": "code",
   "execution_count": 1,
   "metadata": {
    "collapsed": false,
    "deletable": true,
    "editable": true
   },
   "outputs": [
    {
     "name": "stdout",
     "output_type": "stream",
     "text": [
      "Cloning into 'TensorFlow-Examples'...\n",
      "remote: Counting objects: 854, done.\u001b[K\n",
      "remote: Compressing objects: 100% (5/5), done.\u001b[K\n",
      "remote: Total 854 (delta 0), reused 0 (delta 0), pack-reused 849\u001b[K\n",
      "Receiving objects: 100% (854/854), 3.24 MiB | 1.35 MiB/s, done.\n",
      "Resolving deltas: 100% (521/521), done.\n",
      "Checking connectivity... done.\n"
     ]
    }
   ],
   "source": [
    "!git clone https://github.com/aymericdamien/TensorFlow-Examples.git"
   ]
  },
  {
   "cell_type": "code",
   "execution_count": null,
   "metadata": {
    "collapsed": true
   },
   "outputs": [],
   "source": []
  }
 ],
 "metadata": {
  "kernelspec": {
   "display_name": "Python 3",
   "language": "python",
   "name": "python3"
  },
  "language_info": {
   "codemirror_mode": {
    "name": "ipython",
    "version": 3
   },
   "file_extension": ".py",
   "mimetype": "text/x-python",
   "name": "python",
   "nbconvert_exporter": "python",
   "pygments_lexer": "ipython3",
   "version": "3.6.0"
  }
 },
 "nbformat": 4,
 "nbformat_minor": 2
}
